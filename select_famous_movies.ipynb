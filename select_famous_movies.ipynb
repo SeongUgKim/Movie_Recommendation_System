{
 "cells": [
  {
   "cell_type": "code",
   "execution_count": null,
   "outputs": [],
   "source": [
    "import pandas as pd"
   ],
   "metadata": {
    "collapsed": false
   }
  },
  {
   "cell_type": "code",
   "execution_count": 10,
   "outputs": [],
   "source": [
    "def predict_1000_movies():\n",
    "    md = pd.read_csv('./ml-latest-small/movies_metadata.csv')\n",
    "    md['movieId'] = md.index\n",
    "    md['movieId'] = md['movieId'].apply(lambda x: x + 1)\n",
    "    vote_counts = md[md['vote_count'].notnull()]['vote_count'].astype('int')\n",
    "    vote_averages = md[md['vote_average'].notnull()]['vote_average'].astype('int')\n",
    "    C = vote_averages.mean()\n",
    "    m = vote_counts.quantile(0.75)\n",
    "    qualified = md[(md['vote_count'] >= m) & (md['vote_count'].notnull()) & (md['vote_average'].notnull())][\n",
    "        ['title', 'vote_count', 'vote_average', 'popularity', 'genres', 'movieId']]\n",
    "    qualified['vote_count'] = qualified['vote_count'].astype('int')\n",
    "    qualified['vote_average'] = qualified['vote_average'].astype('int')\n",
    "\n",
    "    def weighted_rating(x):\n",
    "        v = x['vote_count']\n",
    "        R = x['vote_average']\n",
    "        return (v / (v + m) * R) + (m / (m + v) * C)\n",
    "\n",
    "    qualified['wr'] = qualified.apply(weighted_rating, axis=1)\n",
    "    qualified = qualified.sort_values('wr', ascending=False).head(10000)\n",
    "    tmp = qualified[['movieId', 'title']]\n",
    "    tmp.to_csv('./ml-latest-small/qualified_movies.csv')\n",
    "    return qualified"
   ],
   "metadata": {
    "collapsed": false
   }
  },
  {
   "cell_type": "code",
   "execution_count": 11,
   "outputs": [
    {
     "name": "stderr",
     "output_type": "stream",
     "text": [
      "/var/folders/bd/vx234tw51sd2c9wrd9ltpf3c0000gn/T/ipykernel_90024/2856823767.py:2: DtypeWarning: Columns (10) have mixed types. Specify dtype option on import or set low_memory=False.\n",
      "  md = pd.read_csv('./ml-latest-small/movies_metadata.csv')\n"
     ]
    },
    {
     "data": {
      "text/plain": "                             title  vote_count  vote_average  popularity  \\\n10309  Dilwale Dulhania Le Jayenge         661             9   34.457024   \n15480                    Inception       14075             8   29.108149   \n12481              The Dark Knight       12269             8  123.167259   \n22879                 Interstellar       11187             8   32.213481   \n2843                    Fight Club        9678             8   63.869599   \n...                            ...         ...           ...         ...   \n12495              Drillbit Taylor         284             5    7.855932   \n12359                      The Eye         284             5    8.233662   \n6156              Bulletproof Monk         285             5    7.963481   \n23645        Planes: Fire & Rescue         286             5    7.579855   \n7222               The Prince & Me         286             5   11.631511   \n\n                                                  genres  movieId        wr  \n10309  [{'id': 35, 'name': 'Comedy'}, {'id': 18, 'nam...    10310  8.816297  \n15480  [{'id': 28, 'name': 'Action'}, {'id': 53, 'nam...    15481  7.993361  \n12481  [{'id': 18, 'name': 'Drama'}, {'id': 28, 'name...    12482  7.992386  \n22879  [{'id': 12, 'name': 'Adventure'}, {'id': 18, '...    22880  7.991652  \n2843                       [{'id': 18, 'name': 'Drama'}]     2844  7.990355  \n...                                                  ...      ...       ...  \n12495                     [{'id': 35, 'name': 'Comedy'}]    12496  5.026184  \n12359  [{'id': 18, 'name': 'Drama'}, {'id': 27, 'name...    12360  5.026184  \n6156   [{'id': 28, 'name': 'Action'}, {'id': 35, 'nam...     6157  5.026102  \n23645  [{'id': 16, 'name': 'Animation'}, {'id': 35, '...    23646  5.026020  \n7222   [{'id': 35, 'name': 'Comedy'}, {'id': 10749, '...     7223  5.026020  \n\n[10000 rows x 7 columns]",
      "text/html": "<div>\n<style scoped>\n    .dataframe tbody tr th:only-of-type {\n        vertical-align: middle;\n    }\n\n    .dataframe tbody tr th {\n        vertical-align: top;\n    }\n\n    .dataframe thead th {\n        text-align: right;\n    }\n</style>\n<table border=\"1\" class=\"dataframe\">\n  <thead>\n    <tr style=\"text-align: right;\">\n      <th></th>\n      <th>title</th>\n      <th>vote_count</th>\n      <th>vote_average</th>\n      <th>popularity</th>\n      <th>genres</th>\n      <th>movieId</th>\n      <th>wr</th>\n    </tr>\n  </thead>\n  <tbody>\n    <tr>\n      <th>10309</th>\n      <td>Dilwale Dulhania Le Jayenge</td>\n      <td>661</td>\n      <td>9</td>\n      <td>34.457024</td>\n      <td>[{'id': 35, 'name': 'Comedy'}, {'id': 18, 'nam...</td>\n      <td>10310</td>\n      <td>8.816297</td>\n    </tr>\n    <tr>\n      <th>15480</th>\n      <td>Inception</td>\n      <td>14075</td>\n      <td>8</td>\n      <td>29.108149</td>\n      <td>[{'id': 28, 'name': 'Action'}, {'id': 53, 'nam...</td>\n      <td>15481</td>\n      <td>7.993361</td>\n    </tr>\n    <tr>\n      <th>12481</th>\n      <td>The Dark Knight</td>\n      <td>12269</td>\n      <td>8</td>\n      <td>123.167259</td>\n      <td>[{'id': 18, 'name': 'Drama'}, {'id': 28, 'name...</td>\n      <td>12482</td>\n      <td>7.992386</td>\n    </tr>\n    <tr>\n      <th>22879</th>\n      <td>Interstellar</td>\n      <td>11187</td>\n      <td>8</td>\n      <td>32.213481</td>\n      <td>[{'id': 12, 'name': 'Adventure'}, {'id': 18, '...</td>\n      <td>22880</td>\n      <td>7.991652</td>\n    </tr>\n    <tr>\n      <th>2843</th>\n      <td>Fight Club</td>\n      <td>9678</td>\n      <td>8</td>\n      <td>63.869599</td>\n      <td>[{'id': 18, 'name': 'Drama'}]</td>\n      <td>2844</td>\n      <td>7.990355</td>\n    </tr>\n    <tr>\n      <th>...</th>\n      <td>...</td>\n      <td>...</td>\n      <td>...</td>\n      <td>...</td>\n      <td>...</td>\n      <td>...</td>\n      <td>...</td>\n    </tr>\n    <tr>\n      <th>12495</th>\n      <td>Drillbit Taylor</td>\n      <td>284</td>\n      <td>5</td>\n      <td>7.855932</td>\n      <td>[{'id': 35, 'name': 'Comedy'}]</td>\n      <td>12496</td>\n      <td>5.026184</td>\n    </tr>\n    <tr>\n      <th>12359</th>\n      <td>The Eye</td>\n      <td>284</td>\n      <td>5</td>\n      <td>8.233662</td>\n      <td>[{'id': 18, 'name': 'Drama'}, {'id': 27, 'name...</td>\n      <td>12360</td>\n      <td>5.026184</td>\n    </tr>\n    <tr>\n      <th>6156</th>\n      <td>Bulletproof Monk</td>\n      <td>285</td>\n      <td>5</td>\n      <td>7.963481</td>\n      <td>[{'id': 28, 'name': 'Action'}, {'id': 35, 'nam...</td>\n      <td>6157</td>\n      <td>5.026102</td>\n    </tr>\n    <tr>\n      <th>23645</th>\n      <td>Planes: Fire &amp; Rescue</td>\n      <td>286</td>\n      <td>5</td>\n      <td>7.579855</td>\n      <td>[{'id': 16, 'name': 'Animation'}, {'id': 35, '...</td>\n      <td>23646</td>\n      <td>5.026020</td>\n    </tr>\n    <tr>\n      <th>7222</th>\n      <td>The Prince &amp; Me</td>\n      <td>286</td>\n      <td>5</td>\n      <td>11.631511</td>\n      <td>[{'id': 35, 'name': 'Comedy'}, {'id': 10749, '...</td>\n      <td>7223</td>\n      <td>5.026020</td>\n    </tr>\n  </tbody>\n</table>\n<p>10000 rows × 7 columns</p>\n</div>"
     },
     "execution_count": 11,
     "metadata": {},
     "output_type": "execute_result"
    }
   ],
   "source": [
    "predict_1000_movies()"
   ],
   "metadata": {
    "collapsed": false
   }
  },
  {
   "cell_type": "code",
   "execution_count": null,
   "outputs": [],
   "source": [],
   "metadata": {
    "collapsed": false
   }
  }
 ],
 "metadata": {
  "kernelspec": {
   "display_name": "Python 3",
   "language": "python",
   "name": "python3"
  },
  "language_info": {
   "codemirror_mode": {
    "name": "ipython",
    "version": 2
   },
   "file_extension": ".py",
   "mimetype": "text/x-python",
   "name": "python",
   "nbconvert_exporter": "python",
   "pygments_lexer": "ipython2",
   "version": "2.7.6"
  }
 },
 "nbformat": 4,
 "nbformat_minor": 0
}
